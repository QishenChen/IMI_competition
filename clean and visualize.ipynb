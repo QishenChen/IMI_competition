{
 "cells": [
  {
   "cell_type": "markdown",
   "metadata": {},
   "source": [
    "## Summary\n",
    "This file is for coding to clean and visualize the data to prepare for the unsupervised learning."
   ]
  },
  {
   "cell_type": "code",
   "execution_count": 1,
   "metadata": {},
   "outputs": [],
   "source": [
    "import pandas as pd\n",
    "data_abm = pd.read_csv('abm.csv')\n",
    "data_card = pd.read_csv('card.csv')\n",
    "data_eft = pd.read_csv('eft.csv')\n",
    "data_emt = pd.read_csv('emt.csv')\n",
    "data_kyc = pd.read_csv('kyc.csv')\n",
    "data_wire = pd.read_csv('wire.csv')\n",
    "data_kyc_industry_codes = pd.read_csv('kyc_industry_codes.csv')"
   ]
  },
  {
   "cell_type": "markdown",
   "metadata": {},
   "source": [
    "# Clean the dataset\n",
    "## Null value\n",
    "We first count null value each column.\n"
   ]
  },
  {
   "cell_type": "code",
   "execution_count": 5,
   "metadata": {},
   "outputs": [
    {
     "name": "stdout",
     "output_type": "stream",
     "text": [
      "abm_id              0.000000\n",
      "customer_id         0.000000\n",
      "amount_cad          0.000000\n",
      "debit_credit        0.000000\n",
      "cash_indicator      0.000000\n",
      "country             0.086653\n",
      "province            0.416227\n",
      "city                0.086653\n",
      "transaction_date    0.000000\n",
      "transaction_time    0.000000\n",
      "dtype: float64\n",
      "card_trxn_id         0.000000\n",
      "customer_id          0.000000\n",
      "amount_cad           0.000000\n",
      "debit_credit         0.000000\n",
      "merchant_category    0.000000\n",
      "ecommerce_ind        0.000000\n",
      "country              0.378131\n",
      "province             0.390205\n",
      "city                 0.180079\n",
      "transaction_date     0.000000\n",
      "transaction_time     0.000000\n",
      "dtype: float64\n",
      "eft_id              0.0\n",
      "customer_id         0.0\n",
      "amount_cad          0.0\n",
      "debit_credit        0.0\n",
      "transaction_date    0.0\n",
      "transaction_time    0.0\n",
      "dtype: float64\n",
      "emt_id              0.0\n",
      "customer_id         0.0\n",
      "amount_cad          0.0\n",
      "debit_credit        0.0\n",
      "transaction_date    0.0\n",
      "transaction_time    0.0\n",
      "dtype: float64\n",
      "customer_id         0.000000\n",
      "country             0.000000\n",
      "province            0.218210\n",
      "city                0.024546\n",
      "industry_code       0.023870\n",
      "employee_count      0.149985\n",
      "sales               0.109997\n",
      "established_date    0.149985\n",
      "onboard_date        0.159951\n",
      "dtype: float64\n",
      "wire_id             0.0\n",
      "customer_id         0.0\n",
      "amount_cad          0.0\n",
      "debit_credit        0.0\n",
      "transaction_date    0.0\n",
      "transaction_time    0.0\n",
      "dtype: float64\n",
      "industry_code    0.0\n",
      "industry         0.0\n",
      "dtype: float64\n"
     ]
    }
   ],
   "source": [
    "print(data_abm.isnull().sum()/len(data_abm))\n",
    "print(data_card.isnull().sum()/len(data_card))\n",
    "print(data_eft.isnull().sum()/len(data_eft))\n",
    "print(data_emt.isnull().sum()/len(data_emt))\n",
    "print(data_kyc.isnull().sum()/len(data_kyc))\n",
    "print(data_wire.isnull().sum()/len(data_wire))\n",
    "print(data_kyc_industry_codes.isnull().sum()/len(data_kyc_industry_codes))"
   ]
  },
  {
   "cell_type": "markdown",
   "metadata": {},
   "source": [
    "## Correlation analysis"
   ]
  },
  {
   "cell_type": "code",
   "execution_count": null,
   "metadata": {},
   "outputs": [],
   "source": []
  }
 ],
 "metadata": {
  "kernelspec": {
   "display_name": "train_network",
   "language": "python",
   "name": "python3"
  },
  "language_info": {
   "codemirror_mode": {
    "name": "ipython",
    "version": 3
   },
   "file_extension": ".py",
   "mimetype": "text/x-python",
   "name": "python",
   "nbconvert_exporter": "python",
   "pygments_lexer": "ipython3",
   "version": "3.8.19"
  }
 },
 "nbformat": 4,
 "nbformat_minor": 2
}
