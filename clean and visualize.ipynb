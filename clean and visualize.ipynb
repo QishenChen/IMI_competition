{
 "cells": [
  {
   "cell_type": "markdown",
   "metadata": {},
   "source": [
    "## Summary\n",
    "This file is for coding to clean and visualize the data to prepare for the unsupervised learning."
   ]
  },
  {
   "cell_type": "code",
   "execution_count": 2,
   "metadata": {},
   "outputs": [],
   "source": [
    "import pandas as pd\n",
    "from sklearn.preprocessing import LabelEncoder\n",
    "from sklearn.preprocessing import OneHotEncoder\n",
    "from sklearn.ensemble import RandomForestClassifier\n",
    "from sklearn.model_selection import train_test_split\n",
    "from sklearn.metrics import accuracy_score\n",
    "import numpy as np\n",
    "import miceforest as mf\n",
    "data_abm = pd.read_csv('abm.csv')\n",
    "data_card = pd.read_csv('card.csv')\n",
    "data_eft = pd.read_csv('eft.csv')\n",
    "data_emt = pd.read_csv('emt.csv')\n",
    "data_kyc = pd.read_csv('kyc.csv')\n",
    "data_wire = pd.read_csv('wire.csv')\n",
    "data_kyc_industry_codes = pd.read_csv('kyc_industry_codes.csv')"
   ]
  },
  {
   "cell_type": "markdown",
   "metadata": {},
   "source": [
    "# Prepare the dataset\n",
    "## Null value\n",
    "We first count null value each column.\n"
   ]
  },
  {
   "cell_type": "code",
   "execution_count": 3,
   "metadata": {},
   "outputs": [
    {
     "name": "stdout",
     "output_type": "stream",
     "text": [
      "abm_id              0.000000\n",
      "customer_id         0.000000\n",
      "amount_cad          0.000000\n",
      "debit_credit        0.000000\n",
      "cash_indicator      0.000000\n",
      "country             0.185506\n",
      "province            0.416227\n",
      "city                0.416227\n",
      "transaction_date    0.000000\n",
      "transaction_time    0.000000\n",
      "dtype: float64\n",
      "card_trxn_id         0.000000\n",
      "customer_id          0.000000\n",
      "amount_cad           0.000000\n",
      "debit_credit         0.000000\n",
      "merchant_category    0.173314\n",
      "ecommerce_ind        0.000000\n",
      "country              0.378131\n",
      "province             0.390205\n",
      "city                 0.517976\n",
      "transaction_date     0.000000\n",
      "transaction_time     0.000000\n",
      "dtype: float64\n",
      "eft_id              0.0\n",
      "customer_id         0.0\n",
      "amount_cad          0.0\n",
      "debit_credit        0.0\n",
      "transaction_date    0.0\n",
      "transaction_time    0.0\n",
      "dtype: float64\n",
      "emt_id              0.0\n",
      "customer_id         0.0\n",
      "amount_cad          0.0\n",
      "debit_credit        0.0\n",
      "transaction_date    0.0\n",
      "transaction_time    0.0\n",
      "dtype: float64\n",
      "customer_id         0.000000\n",
      "country             0.000000\n",
      "province            0.218210\n",
      "city                0.261027\n",
      "industry_code       0.142910\n",
      "employee_count      0.149985\n",
      "sales               0.109997\n",
      "established_date    0.149985\n",
      "onboard_date        0.159951\n",
      "dtype: float64\n",
      "wire_id             0.0\n",
      "customer_id         0.0\n",
      "amount_cad          0.0\n",
      "debit_credit        0.0\n",
      "transaction_date    0.0\n",
      "transaction_time    0.0\n",
      "dtype: float64\n",
      "industry_code    0.0\n",
      "industry         0.0\n",
      "dtype: float64\n"
     ]
    }
   ],
   "source": [
    "\n",
    "def replace_other_with_null(dataset):\n",
    "    dataset = dataset.replace('other', np.nan)  # Replace 'other' with NaN\n",
    "    return dataset\n",
    "# Apply the function to each dataset\n",
    "data_abm = replace_other_with_null(data_abm)\n",
    "data_card = replace_other_with_null(data_card)\n",
    "data_kyc = replace_other_with_null(data_kyc)\n",
    "data_kyc_industry_codes = replace_other_with_null(data_kyc_industry_codes)\n",
    "data_emt = replace_other_with_null(data_emt)\n",
    "data_wire = replace_other_with_null(data_wire)\n",
    "data_eft = replace_other_with_null(data_eft)\n",
    "\n",
    "print(data_abm.isnull().sum()/len(data_abm))\n",
    "print(data_card.isnull().sum()/len(data_card))\n",
    "print(data_eft.isnull().sum()/len(data_eft))\n",
    "print(data_emt.isnull().sum()/len(data_emt))\n",
    "print(data_kyc.isnull().sum()/len(data_kyc))\n",
    "print(data_wire.isnull().sum()/len(data_wire))\n",
    "print(data_kyc_industry_codes.isnull().sum()/len(data_kyc_industry_codes))\n",
    "\n",
    "\n",
    "\n"
   ]
  },
  {
   "cell_type": "markdown",
   "metadata": {},
   "source": [
    "We should use the multiple impute to predict the missing value of the location in the dataset abm, card and kyc. "
   ]
  },
  {
   "cell_type": "code",
   "execution_count": 4,
   "metadata": {},
   "outputs": [
    {
     "name": "stdout",
     "output_type": "stream",
     "text": [
      "Imputing data_abm...\n",
      "Imputing data_card...\n",
      "Imputing data_kyc...\n"
     ]
    }
   ],
   "source": [
    "# Function to encode categorical columns and perform multiple imputation\n",
    "def impute_missing_values(dataset, columns_to_impute):\n",
    "    # Convert categorical columns to numerical using category codes\n",
    "    data_for_imputing = dataset.copy()\n",
    "    dataset_categorical_codes ={} \n",
    "    dataset_categorical_categories = {}\n",
    "    for column in columns_to_impute:\n",
    "        dataset_categorical_codes[column] = data_for_imputing[column].astype('category').cat.codes\n",
    "        dataset_categorical_categories[column] = data_for_imputing[column].astype('category').cat.categories\n",
    "        dataset[column] =dataset_categorical_codes[column]\n",
    "        dataset[column].replace(-1, np.nan, inplace=True)  # Ensure NaN for missing values\n",
    "\n",
    "    # Initialize the kernel for miceforest\n",
    "    kernel = mf.ImputationKernel(\n",
    "        dataset[columns_to_impute],\n",
    "        save_all_iterations=True,\n",
    "        random_state=42\n",
    "    )\n",
    "\n",
    "    # Perform multiple imputations\n",
    "    kernel.mice(5)  # Perform 5 multiple imputation iterations\n",
    "    imputed_data = kernel.complete_data(dataset=0)\n",
    "    # Convert numerical encodings back to original categories\n",
    "    for column in columns_to_impute:\n",
    "        # Ensure the column is treated as categorical\n",
    "        dataset[column] = pd.Categorical.from_codes(\n",
    "            codes=imputed_data[column].round().astype(int),  # Ensure integer codes\n",
    "            categories=dataset_categorical_categories[column]  # Use original categories\n",
    "        )\n",
    "    return dataset\n",
    "\n",
    "\n",
    "# Specify columns to impute\n",
    "columns_to_impute = ['city', 'province', 'country']\n",
    "\n",
    "# Perform imputation on each dataset\n",
    "print(\"Imputing data_abm...\")\n",
    "data_abm_imputed = impute_missing_values(data_abm, columns_to_impute)\n",
    "\n",
    "print(\"Imputing data_card...\")\n",
    "data_card_imputed = impute_missing_values(data_card, columns_to_impute)\n",
    "\n",
    "print(\"Imputing data_kyc...\")\n",
    "data_kyc_imputed = impute_missing_values(data_kyc, columns_to_impute)\n"
   ]
  },
  {
   "cell_type": "code",
   "execution_count": 5,
   "metadata": {},
   "outputs": [
    {
     "name": "stdout",
     "output_type": "stream",
     "text": [
      "                 abm_id       customer_id  amount_cad debit_credit  \\\n",
      "0  ABM00000000000000006  SYNCID0000000014       25.41       credit   \n",
      "1  ABM00000000000000008  SYNCID0000000034      238.17        debit   \n",
      "2  ABM00000000000000009  SYNCID0000000034     1655.43       credit   \n",
      "3  ABM00000000000000010  SYNCID0000000034      620.69       credit   \n",
      "4  ABM00000000000000011  SYNCID0000000034      323.70        debit   \n",
      "\n",
      "   cash_indicator country province        city transaction_date  \\\n",
      "0           False      CA       SK      REGINA       2022-11-16   \n",
      "1            True      CA       ON     TORONTO       2022-11-18   \n",
      "2           False      CA       AB    EDMONTON       2022-12-29   \n",
      "3            True      CA       AB     CALGARY       2023-01-22   \n",
      "4            True      CA       ON  WOODBRIDGE       2022-11-14   \n",
      "\n",
      "  transaction_time  \n",
      "0         17:37:41  \n",
      "1         10:22:59  \n",
      "2         11:56:08  \n",
      "3         16:48:12  \n",
      "4         13:24:45  \n"
     ]
    }
   ],
   "source": [
    "print(data_abm.head())"
   ]
  },
  {
   "cell_type": "code",
   "execution_count": 6,
   "metadata": {},
   "outputs": [],
   "source": [
    "data_abm_imputed.to_csv('data_abm_imputed.csv', index=False)\n",
    "data_card_imputed.to_csv('data_card_imputed.csv', index=False)\n",
    "data_kyc_imputed.to_csv('data_kyc_imputed.csv', index=False)\n"
   ]
  },
  {
   "cell_type": "code",
   "execution_count": 7,
   "metadata": {},
   "outputs": [
    {
     "name": "stdout",
     "output_type": "stream",
     "text": [
      "abm_id              0.0\n",
      "customer_id         0.0\n",
      "amount_cad          0.0\n",
      "debit_credit        0.0\n",
      "cash_indicator      0.0\n",
      "country             0.0\n",
      "province            0.0\n",
      "city                0.0\n",
      "transaction_date    0.0\n",
      "transaction_time    0.0\n",
      "dtype: float64\n"
     ]
    }
   ],
   "source": [
    "print(data_abm_imputed.isnull().sum()/len(data_abm_imputed))"
   ]
  },
  {
   "cell_type": "code",
   "execution_count": 8,
   "metadata": {},
   "outputs": [
    {
     "name": "stdout",
     "output_type": "stream",
     "text": [
      "card_trxn_id         0.000000\n",
      "customer_id          0.000000\n",
      "amount_cad           0.000000\n",
      "debit_credit         0.000000\n",
      "merchant_category    0.173314\n",
      "ecommerce_ind        0.000000\n",
      "country              0.000000\n",
      "province             0.000000\n",
      "city                 0.000000\n",
      "transaction_date     0.000000\n",
      "transaction_time     0.000000\n",
      "dtype: float64\n"
     ]
    }
   ],
   "source": [
    "print(data_card_imputed.isnull().sum()/len(data_card_imputed))\n",
    "\n"
   ]
  },
  {
   "cell_type": "markdown",
   "metadata": {},
   "source": [
    "fill in null values in the merchant_category column"
   ]
  },
  {
   "cell_type": "code",
   "execution_count": 9,
   "metadata": {},
   "outputs": [
    {
     "name": "stdout",
     "output_type": "stream",
     "text": [
      "card_trxn_id         0\n",
      "customer_id          0\n",
      "amount_cad           0\n",
      "debit_credit         0\n",
      "merchant_category    0\n",
      "ecommerce_ind        0\n",
      "country              0\n",
      "province             0\n",
      "city                 0\n",
      "transaction_date     0\n",
      "transaction_time     0\n",
      "dtype: int64\n"
     ]
    }
   ],
   "source": [
    "def fill_merchant_category_based_on_distribution(dataset, column_name):\n",
    "    # Analyze the distribution of non-null values\n",
    "    non_null_values = dataset[column_name].dropna().astype(int)\n",
    "    value_counts = non_null_values.value_counts(normalize=True)  # Get proportions\n",
    "    # print(f\"Value distribution for '{column_name}':\\n{value_counts}\")\n",
    "\n",
    "    # Generate random values based on the distribution for null entries\n",
    "    if dataset[column_name].isna().sum() > 0:\n",
    "        # Sample from the value distribution\n",
    "        random_values = np.random.choice(\n",
    "            value_counts.index, \n",
    "            size=dataset[column_name].isna().sum(), \n",
    "            p=value_counts.values\n",
    "        )\n",
    "        # Assign the sampled values to the null entries\n",
    "        dataset.loc[dataset[column_name].isna(), column_name] = random_values\n",
    "\n",
    "    return dataset\n",
    "\n",
    "# Fill the null values in the 'merchant_category' column based on the distribution\n",
    "data_card_imputed = fill_merchant_category_based_on_distribution(data_card_imputed, 'merchant_category')\n",
    "print(data_card_imputed.isnull().sum())"
   ]
  },
  {
   "cell_type": "code",
   "execution_count": 10,
   "metadata": {},
   "outputs": [
    {
     "name": "stdout",
     "output_type": "stream",
     "text": [
      "customer_id         0.000000\n",
      "country             0.000000\n",
      "province            0.000000\n",
      "city                0.000000\n",
      "industry_code       0.142910\n",
      "employee_count      0.149985\n",
      "sales               0.109997\n",
      "established_date    0.149985\n",
      "onboard_date        0.159951\n",
      "dtype: float64\n"
     ]
    }
   ],
   "source": [
    "\n",
    "print(data_kyc_imputed.isnull().sum()/len(data_kyc_imputed))\n",
    "data_kyc_imputed = fill_merchant_category_based_on_distribution(data_kyc_imputed, 'industry_code')\n",
    "data_kyc_imputed = fill_merchant_category_based_on_distribution(data_kyc_imputed, 'employee_count')"
   ]
  },
  {
   "cell_type": "code",
   "execution_count": 11,
   "metadata": {},
   "outputs": [
    {
     "data": {
      "image/png": "[encoded data removed]",
      "text/plain": [
       "<Figure size 1000x600 with 1 Axes>"
      ]
     },
     "metadata": {},
     "output_type": "display_data"
    }
   ],
   "source": [
    "import seaborn as sns\n",
    "import matplotlib.pyplot as plt\n",
    "def plot_column_distribution(dataset, column_name):\n",
    "    # Drop null values for analysis\n",
    "    column_data = dataset[column_name].dropna()\n",
    "\n",
    "    # Plot histogram and KDE\n",
    "    plt.figure(figsize=(10, 6))\n",
    "    sns.histplot(column_data, kde=True, bins=150, color='blue', stat=\"density\", label='Histogram with KDE')\n",
    "    plt.axvline(column_data.mean(), color='red', linestyle='dashed', linewidth=1.5, label='Mean')\n",
    "    plt.axvline(column_data.median(), color='green', linestyle='dashed', linewidth=1.5, label='Median')\n",
    "    plt.title(f\"Distribution of '{column_name}'\", fontsize=16)\n",
    "    plt.xlabel(column_name, fontsize=14)\n",
    "    plt.ylabel('Density', fontsize=14)\n",
    "    plt.xlim(0, 10000000)  # Set x-axis range to 0-10000\n",
    "    plt.legend(fontsize=12)\n",
    "    plt.grid(alpha=0.3)\n",
    "    plt.show()\n",
    "\n",
    "# Plot the distribution of the 'merchant_category' column\n",
    "plot_column_distribution(data_kyc_imputed, 'sales')"
   ]
  },
  {
   "cell_type": "code",
   "execution_count": 12,
   "metadata": {},
   "outputs": [],
   "source": [
    "data_kyc_imputed=fill_merchant_category_based_on_distribution(data_kyc_imputed,'sales')"
   ]
  },
  {
   "cell_type": "code",
   "execution_count": 13,
   "metadata": {},
   "outputs": [],
   "source": [
    "data_kyc_imputed['onboard_date'] = pd.to_datetime(data_kyc['onboard_date'], errors='coerce')\n",
    "data_kyc_imputed['established_date'] = pd.to_datetime(data_kyc['established_date'], errors='coerce')\n",
    "\n",
    "data_kyc_imputed['duration'] = data_kyc.apply(\n",
    "    lambda row: (row['onboard_date'] - row['established_date']).days \n",
    "    if pd.notnull(row['onboard_date']) and pd.notnull(row['established_date']) \n",
    "    else None, \n",
    "    axis=1\n",
    ")\n",
    "\n"
   ]
  },
  {
   "cell_type": "code",
   "execution_count": 14,
   "metadata": {},
   "outputs": [
    {
     "data": {
      "text/plain": [
       "0.28422023992617657"
      ]
     },
     "execution_count": 14,
     "metadata": {},
     "output_type": "execute_result"
    }
   ],
   "source": [
    "data_kyc_imputed['duration'].isnull().sum()/len(data_kyc_imputed['duration'])"
   ]
  },
  {
   "cell_type": "code",
   "execution_count": 15,
   "metadata": {},
   "outputs": [],
   "source": [
    "data_kyc_imputed = fill_merchant_category_based_on_distribution(data_kyc_imputed, 'duration')\n",
    "data_kyc_imputed.drop(columns=['onboard_date', 'established_date'], inplace=True)\n"
   ]
  },
  {
   "cell_type": "code",
   "execution_count": 16,
   "metadata": {},
   "outputs": [],
   "source": [
    "data_abm_imputed.to_csv('data_abm_imputed.csv', index=False)\n",
    "data_card_imputed.to_csv('data_card_imputed.csv', index=False)\n",
    "data_kyc_imputed.to_csv('data_kyc_imputed.csv', index=False)\n",
    "\n"
   ]
  },
  {
   "cell_type": "code",
   "execution_count": 91,
   "metadata": {},
   "outputs": [],
   "source": [
    "data_abm_imputed = pd.read_csv('data_abm_imputed.csv')"
   ]
  },
  {
   "cell_type": "markdown",
   "metadata": {},
   "source": [
    "## Encoding data"
   ]
  },
  {
   "cell_type": "code",
   "execution_count": 43,
   "metadata": {},
   "outputs": [],
   "source": [
    "# One_hot_dot encoder\n",
    "def one_hot_encoder(dataset, column):\n",
    "    dataset_copy=dataset.copy()\n",
    "    Oh_encoder = OneHotEncoder(sparse=False, drop=None)  \n",
    "    encoded_data = Oh_encoder.fit_transform(dataset_copy[[column]])\n",
    "    encoded_data_frame = pd.DataFrame(encoded_data, columns=Oh_encoder.get_feature_names_out([column]))\n",
    "    dataset_copy= dataset_copy.drop(columns=[column])\n",
    "    dataset_copy = pd.concat([dataset_copy, encoded_data_frame], axis=1)\n",
    "    return dataset_copy\n",
    "\n",
    "\n"
   ]
  },
  {
   "cell_type": "code",
   "execution_count": 44,
   "metadata": {},
   "outputs": [],
   "source": [
    "# Label encoder\n",
    "def encode_with_label_encoder(dataset,column):\n",
    "    dataset_copy = dataset.copy()\n",
    "    label_encoder = LabelEncoder()\n",
    "    encoded_data = label_encoder.fit_transform(dataset_copy[column])\n",
    "    encoded_data_dataframe = pd.DataFrame(encoded_data, columns=[column])\n",
    "    dataset_copy = dataset_copy.drop(columns=[column])\n",
    "    dataset_copy = pd.concat([dataset_copy, encoded_data_dataframe], axis=1)\n",
    "    return dataset_copy\n"
   ]
  },
  {
   "cell_type": "code",
   "execution_count": 90,
   "metadata": {},
   "outputs": [],
   "source": [
    "def time_encoder(dataset, column1, column2):\n",
    "    dataset_copy= dataset.copy()\n",
    "    time_date = pd.to_datetime(dataset_copy[column1], format='%Y-%m-%d')\n",
    "    time_accurate = pd.to_datetime(dataset_copy[column2], format='%H:%M:%S')\n",
    "    date = time_date.dt.day\n",
    "    month = time_date.dt.month\n",
    "    year = time_date.dt.year\n",
    "    hour = time_accurate.dt.hour\n",
    "    minute = time_accurate.dt.minute\n",
    "    second = time_accurate.dt.second\n",
    "    print(date.type())\n",
    "    date_dataframe=date.to_frame(name = column1+'date')\n",
    "    month_dataframe = month.to_frame(name = column1 + 'month')\n",
    "    year_dataframe = year.to_frame(name = column1 + 'year')\n",
    "    hour_dataframe=hour.to_frame(name = column2+'hour')\n",
    "    minute_dataframe = minute.to_frame(name = column2 + 'minute')\n",
    "    second_dataframe = second.to_frame(name = column2 + 'second')\n",
    "    dataset_copy=dataset_copy.drop(columns = [column1])\n",
    "    dataset_copy=dataset_copy.drop(columns = [column2])\n",
    "    dataset_copy = pd.concat([dataset_copy, date_dataframe, month_dataframe, year_dataframe, hour_dataframe, minute_dataframe, second_dataframe], axis=1)\n",
    "    return dataset_copy"
   ]
  },
  {
   "cell_type": "code",
   "execution_count": 92,
   "metadata": {},
   "outputs": [
    {
     "name": "stderr",
     "output_type": "stream",
     "text": [
      "/home/chenqis4/anaconda3/envs/train_network/lib/python3.8/site-packages/sklearn/preprocessing/_encoders.py:972: FutureWarning: `sparse` was renamed to `sparse_output` in version 1.2 and will be removed in 1.4. `sparse_output` is ignored unless you leave `sparse` to its default value.\n",
      "  warnings.warn(\n",
      "/home/chenqis4/anaconda3/envs/train_network/lib/python3.8/site-packages/sklearn/preprocessing/_encoders.py:972: FutureWarning: `sparse` was renamed to `sparse_output` in version 1.2 and will be removed in 1.4. `sparse_output` is ignored unless you leave `sparse` to its default value.\n",
      "  warnings.warn(\n"
     ]
    }
   ],
   "source": [
    "\n",
    "data_abm_imputed_encoded= one_hot_encoder(data_abm_imputed, 'cash_indicator')\n",
    "data_abm_imputed_encoded= one_hot_encoder(data_abm_imputed_encoded, 'debit_credit')"
   ]
  },
  {
   "cell_type": "code",
   "execution_count": 82,
   "metadata": {},
   "outputs": [
    {
     "data": {
      "text/html": [
       "<div>\n",
       "<style scoped>\n",
       "    .dataframe tbody tr th:only-of-type {\n",
       "        vertical-align: middle;\n",
       "    }\n",
       "\n",
       "    .dataframe tbody tr th {\n",
       "        vertical-align: top;\n",
       "    }\n",
       "\n",
       "    .dataframe thead th {\n",
       "        text-align: right;\n",
       "    }\n",
       "</style>\n",
       "<table border=\"1\" class=\"dataframe\">\n",
       "  <thead>\n",
       "    <tr style=\"text-align: right;\">\n",
       "      <th></th>\n",
       "      <th>abm_id</th>\n",
       "      <th>customer_id</th>\n",
       "      <th>amount_cad</th>\n",
       "      <th>country</th>\n",
       "      <th>province</th>\n",
       "      <th>city</th>\n",
       "      <th>cash_indicator_False</th>\n",
       "      <th>cash_indicator_True</th>\n",
       "      <th>debit_credit_credit</th>\n",
       "      <th>debit_credit_debit</th>\n",
       "      <th>transaction_datedate</th>\n",
       "      <th>transaction_datemonth</th>\n",
       "      <th>transaction_dateyear</th>\n",
       "      <th>transaction_timehour</th>\n",
       "      <th>transaction_timeminute</th>\n",
       "      <th>transaction_timesecond</th>\n",
       "    </tr>\n",
       "  </thead>\n",
       "  <tbody>\n",
       "    <tr>\n",
       "      <th>0</th>\n",
       "      <td>ABM00000000000000006</td>\n",
       "      <td>SYNCID0000000014</td>\n",
       "      <td>25.41</td>\n",
       "      <td>CA</td>\n",
       "      <td>SK</td>\n",
       "      <td>REGINA</td>\n",
       "      <td>1.0</td>\n",
       "      <td>0.0</td>\n",
       "      <td>1.0</td>\n",
       "      <td>0.0</td>\n",
       "      <td>NaN</td>\n",
       "      <td>NaN</td>\n",
       "      <td>NaN</td>\n",
       "      <td>NaN</td>\n",
       "      <td>NaN</td>\n",
       "      <td>NaN</td>\n",
       "    </tr>\n",
       "    <tr>\n",
       "      <th>1</th>\n",
       "      <td>ABM00000000000000008</td>\n",
       "      <td>SYNCID0000000034</td>\n",
       "      <td>238.17</td>\n",
       "      <td>CA</td>\n",
       "      <td>ON</td>\n",
       "      <td>TORONTO</td>\n",
       "      <td>0.0</td>\n",
       "      <td>1.0</td>\n",
       "      <td>0.0</td>\n",
       "      <td>1.0</td>\n",
       "      <td>NaN</td>\n",
       "      <td>NaN</td>\n",
       "      <td>NaN</td>\n",
       "      <td>NaN</td>\n",
       "      <td>NaN</td>\n",
       "      <td>NaN</td>\n",
       "    </tr>\n",
       "    <tr>\n",
       "      <th>2</th>\n",
       "      <td>ABM00000000000000009</td>\n",
       "      <td>SYNCID0000000034</td>\n",
       "      <td>1655.43</td>\n",
       "      <td>CA</td>\n",
       "      <td>AB</td>\n",
       "      <td>EDMONTON</td>\n",
       "      <td>1.0</td>\n",
       "      <td>0.0</td>\n",
       "      <td>1.0</td>\n",
       "      <td>0.0</td>\n",
       "      <td>NaN</td>\n",
       "      <td>NaN</td>\n",
       "      <td>NaN</td>\n",
       "      <td>NaN</td>\n",
       "      <td>NaN</td>\n",
       "      <td>NaN</td>\n",
       "    </tr>\n",
       "    <tr>\n",
       "      <th>3</th>\n",
       "      <td>ABM00000000000000010</td>\n",
       "      <td>SYNCID0000000034</td>\n",
       "      <td>620.69</td>\n",
       "      <td>CA</td>\n",
       "      <td>AB</td>\n",
       "      <td>CALGARY</td>\n",
       "      <td>0.0</td>\n",
       "      <td>1.0</td>\n",
       "      <td>1.0</td>\n",
       "      <td>0.0</td>\n",
       "      <td>NaN</td>\n",
       "      <td>NaN</td>\n",
       "      <td>NaN</td>\n",
       "      <td>NaN</td>\n",
       "      <td>NaN</td>\n",
       "      <td>NaN</td>\n",
       "    </tr>\n",
       "    <tr>\n",
       "      <th>4</th>\n",
       "      <td>ABM00000000000000011</td>\n",
       "      <td>SYNCID0000000034</td>\n",
       "      <td>323.70</td>\n",
       "      <td>CA</td>\n",
       "      <td>ON</td>\n",
       "      <td>WOODBRIDGE</td>\n",
       "      <td>0.0</td>\n",
       "      <td>1.0</td>\n",
       "      <td>0.0</td>\n",
       "      <td>1.0</td>\n",
       "      <td>NaN</td>\n",
       "      <td>NaN</td>\n",
       "      <td>NaN</td>\n",
       "      <td>NaN</td>\n",
       "      <td>NaN</td>\n",
       "      <td>NaN</td>\n",
       "    </tr>\n",
       "  </tbody>\n",
       "</table>\n",
       "</div>"
      ],
      "text/plain": [
       "                 abm_id       customer_id  amount_cad country province  \\\n",
       "0  ABM00000000000000006  SYNCID0000000014       25.41      CA       SK   \n",
       "1  ABM00000000000000008  SYNCID0000000034      238.17      CA       ON   \n",
       "2  ABM00000000000000009  SYNCID0000000034     1655.43      CA       AB   \n",
       "3  ABM00000000000000010  SYNCID0000000034      620.69      CA       AB   \n",
       "4  ABM00000000000000011  SYNCID0000000034      323.70      CA       ON   \n",
       "\n",
       "         city  cash_indicator_False  cash_indicator_True  debit_credit_credit  \\\n",
       "0      REGINA                   1.0                  0.0                  1.0   \n",
       "1     TORONTO                   0.0                  1.0                  0.0   \n",
       "2    EDMONTON                   1.0                  0.0                  1.0   \n",
       "3     CALGARY                   0.0                  1.0                  1.0   \n",
       "4  WOODBRIDGE                   0.0                  1.0                  0.0   \n",
       "\n",
       "   debit_credit_debit transaction_datedate transaction_datemonth  \\\n",
       "0                 0.0                  NaN                   NaN   \n",
       "1                 1.0                  NaN                   NaN   \n",
       "2                 0.0                  NaN                   NaN   \n",
       "3                 0.0                  NaN                   NaN   \n",
       "4                 1.0                  NaN                   NaN   \n",
       "\n",
       "  transaction_dateyear transaction_timehour transaction_timeminute  \\\n",
       "0                  NaN                  NaN                    NaN   \n",
       "1                  NaN                  NaN                    NaN   \n",
       "2                  NaN                  NaN                    NaN   \n",
       "3                  NaN                  NaN                    NaN   \n",
       "4                  NaN                  NaN                    NaN   \n",
       "\n",
       "  transaction_timesecond  \n",
       "0                    NaN  \n",
       "1                    NaN  \n",
       "2                    NaN  \n",
       "3                    NaN  \n",
       "4                    NaN  "
      ]
     },
     "execution_count": 82,
     "metadata": {},
     "output_type": "execute_result"
    }
   ],
   "source": [
    "data_abm_imputed_encoded.head()\n"
   ]
  },
  {
   "cell_type": "code",
   "execution_count": 49,
   "metadata": {},
   "outputs": [],
   "source": [
    "\n",
    "data_abm_imputed_encoded = encode_with_label_encoder(data_abm_imputed_encoded, 'abm_id')\n",
    "data_abm_imputed_encoded = encode_with_label_encoder(data_abm_imputed_encoded, 'customer_id')\n",
    "data_abm_imputed_encoded = encode_with_label_encoder(data_abm_imputed_encoded, 'city')\n",
    "data_abm_imputed_encoded = encode_with_label_encoder(data_abm_imputed_encoded, 'province')\n",
    "data_abm_imputed_encoded = encode_with_label_encoder(data_abm_imputed_encoded, 'country')"
   ]
  },
  {
   "cell_type": "code",
   "execution_count": 93,
   "metadata": {},
   "outputs": [
    {
     "ename": "AttributeError",
     "evalue": "'Series' object has no attribute 'type'",
     "output_type": "error",
     "traceback": [
      "\u001b[0;31m---------------------------------------------------------------------------\u001b[0m",
      "\u001b[0;31mAttributeError\u001b[0m                            Traceback (most recent call last)",
      "\u001b[0;32m/tmp/ipykernel_11010/4200339327.py\u001b[0m in \u001b[0;36m?\u001b[0;34m()\u001b[0m\n\u001b[0;32m----> 1\u001b[0;31m \u001b[0mdata_abm_imputed_encoded\u001b[0m \u001b[0;34m=\u001b[0m \u001b[0mtime_encoder\u001b[0m\u001b[0;34m(\u001b[0m\u001b[0mdata_abm_imputed_encoded\u001b[0m\u001b[0;34m,\u001b[0m \u001b[0;34m'transaction_date'\u001b[0m\u001b[0;34m,\u001b[0m \u001b[0;34m'transaction_time'\u001b[0m\u001b[0;34m)\u001b[0m\u001b[0;34m\u001b[0m\u001b[0;34m\u001b[0m\u001b[0m\n\u001b[0m",
      "\u001b[0;32m/tmp/ipykernel_11010/3606722052.py\u001b[0m in \u001b[0;36m?\u001b[0;34m(dataset, column1, column2)\u001b[0m\n\u001b[1;32m      7\u001b[0m     \u001b[0myear\u001b[0m \u001b[0;34m=\u001b[0m \u001b[0mtime_date\u001b[0m\u001b[0;34m.\u001b[0m\u001b[0mdt\u001b[0m\u001b[0;34m.\u001b[0m\u001b[0myear\u001b[0m\u001b[0;34m\u001b[0m\u001b[0;34m\u001b[0m\u001b[0m\n\u001b[1;32m      8\u001b[0m     \u001b[0mhour\u001b[0m \u001b[0;34m=\u001b[0m \u001b[0mtime_accurate\u001b[0m\u001b[0;34m.\u001b[0m\u001b[0mdt\u001b[0m\u001b[0;34m.\u001b[0m\u001b[0mhour\u001b[0m\u001b[0;34m\u001b[0m\u001b[0;34m\u001b[0m\u001b[0m\n\u001b[1;32m      9\u001b[0m     \u001b[0mminute\u001b[0m \u001b[0;34m=\u001b[0m \u001b[0mtime_accurate\u001b[0m\u001b[0;34m.\u001b[0m\u001b[0mdt\u001b[0m\u001b[0;34m.\u001b[0m\u001b[0mminute\u001b[0m\u001b[0;34m\u001b[0m\u001b[0;34m\u001b[0m\u001b[0m\n\u001b[1;32m     10\u001b[0m     \u001b[0msecond\u001b[0m \u001b[0;34m=\u001b[0m \u001b[0mtime_accurate\u001b[0m\u001b[0;34m.\u001b[0m\u001b[0mdt\u001b[0m\u001b[0;34m.\u001b[0m\u001b[0msecond\u001b[0m\u001b[0;34m\u001b[0m\u001b[0;34m\u001b[0m\u001b[0m\n\u001b[0;32m---> 11\u001b[0;31m     \u001b[0mprint\u001b[0m\u001b[0;34m(\u001b[0m\u001b[0mdate\u001b[0m\u001b[0;34m.\u001b[0m\u001b[0mtype\u001b[0m\u001b[0;34m(\u001b[0m\u001b[0;34m)\u001b[0m\u001b[0;34m)\u001b[0m\u001b[0;34m\u001b[0m\u001b[0;34m\u001b[0m\u001b[0m\n\u001b[0m\u001b[1;32m     12\u001b[0m     \u001b[0mdate_dataframe\u001b[0m \u001b[0;34m=\u001b[0m \u001b[0mpd\u001b[0m\u001b[0;34m.\u001b[0m\u001b[0mDataFrame\u001b[0m\u001b[0;34m(\u001b[0m\u001b[0mdate\u001b[0m\u001b[0;34m,\u001b[0m \u001b[0mcolumns\u001b[0m\u001b[0;34m=\u001b[0m\u001b[0;34m[\u001b[0m\u001b[0mcolumn1\u001b[0m\u001b[0;34m+\u001b[0m\u001b[0;34m'date'\u001b[0m\u001b[0;34m]\u001b[0m\u001b[0;34m)\u001b[0m\u001b[0;34m\u001b[0m\u001b[0;34m\u001b[0m\u001b[0m\n\u001b[1;32m     13\u001b[0m     \u001b[0mmonth_dataframe\u001b[0m \u001b[0;34m=\u001b[0m \u001b[0mpd\u001b[0m\u001b[0;34m.\u001b[0m\u001b[0mDataFrame\u001b[0m\u001b[0;34m(\u001b[0m\u001b[0mmonth\u001b[0m\u001b[0;34m,\u001b[0m \u001b[0mcolumns\u001b[0m\u001b[0;34m=\u001b[0m\u001b[0;34m[\u001b[0m\u001b[0mcolumn1\u001b[0m\u001b[0;34m+\u001b[0m\u001b[0;34m'month'\u001b[0m\u001b[0;34m]\u001b[0m\u001b[0;34m)\u001b[0m\u001b[0;34m\u001b[0m\u001b[0;34m\u001b[0m\u001b[0m\n\u001b[1;32m     14\u001b[0m     \u001b[0myear_dataframe\u001b[0m \u001b[0;34m=\u001b[0m \u001b[0mpd\u001b[0m\u001b[0;34m.\u001b[0m\u001b[0mDataFrame\u001b[0m\u001b[0;34m(\u001b[0m\u001b[0myear\u001b[0m\u001b[0;34m,\u001b[0m \u001b[0mcolumns\u001b[0m\u001b[0;34m=\u001b[0m\u001b[0;34m[\u001b[0m\u001b[0mcolumn1\u001b[0m\u001b[0;34m+\u001b[0m\u001b[0;34m'year'\u001b[0m\u001b[0;34m]\u001b[0m\u001b[0;34m)\u001b[0m\u001b[0;34m\u001b[0m\u001b[0;34m\u001b[0m\u001b[0m\n",
      "\u001b[0;32m~/anaconda3/envs/train_network/lib/python3.8/site-packages/pandas/core/generic.py\u001b[0m in \u001b[0;36m?\u001b[0;34m(self, name)\u001b[0m\n\u001b[1;32m   5985\u001b[0m             \u001b[0;32mand\u001b[0m \u001b[0mname\u001b[0m \u001b[0;32mnot\u001b[0m \u001b[0;32min\u001b[0m \u001b[0mself\u001b[0m\u001b[0;34m.\u001b[0m\u001b[0m_accessors\u001b[0m\u001b[0;34m\u001b[0m\u001b[0;34m\u001b[0m\u001b[0m\n\u001b[1;32m   5986\u001b[0m             \u001b[0;32mand\u001b[0m \u001b[0mself\u001b[0m\u001b[0;34m.\u001b[0m\u001b[0m_info_axis\u001b[0m\u001b[0;34m.\u001b[0m\u001b[0m_can_hold_identifiers_and_holds_name\u001b[0m\u001b[0;34m(\u001b[0m\u001b[0mname\u001b[0m\u001b[0;34m)\u001b[0m\u001b[0;34m\u001b[0m\u001b[0;34m\u001b[0m\u001b[0m\n\u001b[1;32m   5987\u001b[0m         ):\n\u001b[1;32m   5988\u001b[0m             \u001b[0;32mreturn\u001b[0m \u001b[0mself\u001b[0m\u001b[0;34m[\u001b[0m\u001b[0mname\u001b[0m\u001b[0;34m]\u001b[0m\u001b[0;34m\u001b[0m\u001b[0;34m\u001b[0m\u001b[0m\n\u001b[0;32m-> 5989\u001b[0;31m         \u001b[0;32mreturn\u001b[0m \u001b[0mobject\u001b[0m\u001b[0;34m.\u001b[0m\u001b[0m__getattribute__\u001b[0m\u001b[0;34m(\u001b[0m\u001b[0mself\u001b[0m\u001b[0;34m,\u001b[0m \u001b[0mname\u001b[0m\u001b[0;34m)\u001b[0m\u001b[0;34m\u001b[0m\u001b[0;34m\u001b[0m\u001b[0m\n\u001b[0m",
      "\u001b[0;31mAttributeError\u001b[0m: 'Series' object has no attribute 'type'"
     ]
    }
   ],
   "source": [
    "data_abm_imputed_encoded = time_encoder(data_abm_imputed_encoded, 'transaction_date', 'transaction_time')"
   ]
  }
 ],
 "metadata": {
  "kernelspec": {
   "display_name": "train_network",
   "language": "python",
   "name": "python3"
  },
  "language_info": {
   "codemirror_mode": {
    "name": "ipython",
    "version": 3
   },
   "file_extension": ".py",
   "mimetype": "text/x-python",
   "name": "python",
   "nbconvert_exporter": "python",
   "pygments_lexer": "ipython3",
   "version": "3.8.19"
  }
 },
 "nbformat": 4,
 "nbformat_minor": 2
}
